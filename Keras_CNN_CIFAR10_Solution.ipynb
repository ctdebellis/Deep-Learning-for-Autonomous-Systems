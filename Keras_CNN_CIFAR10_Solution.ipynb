{
 "cells": [
  {
   "cell_type": "code",
   "execution_count": 25,
   "metadata": {
    "scrolled": false
   },
   "outputs": [],
   "source": [
    "from __future__ import print_function\n",
    "import keras\n",
    "from keras.datasets import mnist, cifar10\n",
    "from keras.layers import Dense, Flatten\n",
    "from keras.layers import Conv2D, MaxPooling2D\n",
    "from keras.models import Sequential\n",
    "import matplotlib.pylab as plt\n",
    "import numpy as np \n",
    "\n",
    "# load the data already splits into train and test data sets\n",
    "(x_train, y_train), (x_test, y_test) = cifar10.load_data()\n",
    "\n",
    "# input image dimensions\n",
    "img_x, img_y, channels = 32, 32, 3\n",
    "\n",
    "keras.backend.set_image_data_format('channels_last')\n",
    "input_shape = (img_x, img_y, channels)\n",
    "# reshape the data into a 4D tensor - (sample_number, x_img_size, y_img_size, num_channels)\n",
    "x_train = x_train.reshape(x_train.shape[0], img_x, img_y, channels)\n",
    "x_test = x_test.reshape(x_test.shape[0], img_x, img_y, channels)\n",
    "\n",
    "cifar10_labels={\n",
    "    0: \"airplane\", \n",
    "    1: \"automobile\", \n",
    "    2: \"bird\",\n",
    "    3: \"cat\",\n",
    "    4: \"deer\",\n",
    "    5: \"dog\",\n",
    "    6: \"frog\",\n",
    "    7: \"horse\",\n",
    "    8: \"ship\",\n",
    "    9: \"truck\"\n",
    "}\n",
    "\n",
    "num_classes = len(cifar10_labels)\n",
    "\n",
    "\n",
    "# convert class vectors to binary class matrices for categorical_crossentropy loss\n",
    "y_train = keras.utils.to_categorical(y_train, num_classes)\n",
    "y_test = keras.utils.to_categorical(y_test, num_classes)"
   ]
  },
  {
   "cell_type": "code",
   "execution_count": 26,
   "metadata": {},
   "outputs": [],
   "source": [
    "# convert the data to the right type\n",
    "x_train = x_train.astype('float32')\n",
    "x_test = x_test.astype('float32')\n",
    "\n",
    "#Scale pixel values from range 0..255 to 0..1\n",
    "x_train /= 255\n",
    "x_test /= 255\n"
   ]
  },
  {
   "cell_type": "code",
   "execution_count": null,
   "metadata": {},
   "outputs": [],
   "source": []
  },
  {
   "cell_type": "code",
   "execution_count": 31,
   "metadata": {},
   "outputs": [],
   "source": [
    "\n",
    "#Layer 1\n",
    "model = Sequential()\n",
    "model.add(Conv2D(4, kernel_size=(5, 5), strides=(1, 1),\n",
    "                 activation='relu', padding=\"same\",\n",
    "                 input_shape=input_shape))\n",
    "model.add(MaxPooling2D(pool_size=(2, 2), strides=(2, 2)))\n",
    "\n",
    "#Flatten\n",
    "model.add(Flatten())\n",
    "\n",
    "#Fully Connected\n",
    "model.add(Dense(10, activation='relu'))\n",
    "\n",
    "#Softmax classifier\n",
    "model.add(Dense(num_classes, activation='softmax'))"
   ]
  },
  {
   "cell_type": "code",
   "execution_count": 32,
   "metadata": {},
   "outputs": [
    {
     "name": "stdout",
     "output_type": "stream",
     "text": [
      "conv2d_8 (None, 32, 32, 4)\n",
      "max_pooling2d_3 (None, 16, 16, 4)\n",
      "flatten_3 (None, 1024)\n",
      "dense_5 (None, 10)\n",
      "dense_6 (None, 10)\n"
     ]
    }
   ],
   "source": [
    "for layer in model.layers:\n",
    "    print(layer.name, layer.output_shape)"
   ]
  },
  {
   "cell_type": "code",
   "execution_count": 5,
   "metadata": {},
   "outputs": [],
   "source": [
    "model.compile(loss=keras.losses.categorical_crossentropy,\n",
    "              optimizer=keras.optimizers.Adam(),\n",
    "              metrics=['accuracy'])"
   ]
  },
  {
   "cell_type": "code",
   "execution_count": 6,
   "metadata": {},
   "outputs": [],
   "source": [
    "#dir(model)"
   ]
  },
  {
   "cell_type": "code",
   "execution_count": 7,
   "metadata": {},
   "outputs": [
    {
     "name": "stdout",
     "output_type": "stream",
     "text": [
      "sequential_1\n",
      "[<keras.layers.core.Dense object at 0x7fc215e2c128>]\n"
     ]
    }
   ],
   "source": [
    "print(model.name)\n",
    "print(model.output_layers)"
   ]
  },
  {
   "cell_type": "code",
   "execution_count": 8,
   "metadata": {
    "scrolled": false
   },
   "outputs": [
    {
     "name": "stdout",
     "output_type": "stream",
     "text": [
      "Train on 50000 samples, validate on 10000 samples\n",
      "Epoch 1/10\n",
      "50000/50000 [==============================] - 28s 555us/step - loss: 2.0958 - acc: 0.1886 - val_loss: 1.9394 - val_acc: 0.2666\n",
      "Epoch 2/10\n",
      "50000/50000 [==============================] - 29s 583us/step - loss: 1.8635 - acc: 0.2886 - val_loss: 1.7862 - val_acc: 0.3188\n",
      "Epoch 3/10\n",
      "50000/50000 [==============================] - 29s 583us/step - loss: 1.7794 - acc: 0.3199 - val_loss: 1.7438 - val_acc: 0.3316\n",
      "Epoch 4/10\n",
      "50000/50000 [==============================] - 29s 586us/step - loss: 1.7477 - acc: 0.3318 - val_loss: 1.7942 - val_acc: 0.3028\n",
      "Epoch 5/10\n",
      "50000/50000 [==============================] - 30s 594us/step - loss: 1.7305 - acc: 0.3370 - val_loss: 1.7084 - val_acc: 0.3465\n",
      "Epoch 6/10\n",
      "50000/50000 [==============================] - 27s 548us/step - loss: 1.7117 - acc: 0.3424 - val_loss: 1.7014 - val_acc: 0.3507\n",
      "Epoch 7/10\n",
      "50000/50000 [==============================] - 27s 548us/step - loss: 1.7018 - acc: 0.3473 - val_loss: 1.6865 - val_acc: 0.3505\n",
      "Epoch 8/10\n",
      "50000/50000 [==============================] - 27s 538us/step - loss: 1.6926 - acc: 0.3507 - val_loss: 1.6805 - val_acc: 0.3548\n",
      "Epoch 9/10\n",
      "50000/50000 [==============================] - 27s 540us/step - loss: 1.6789 - acc: 0.3552 - val_loss: 1.6873 - val_acc: 0.3540\n",
      "Epoch 10/10\n",
      "50000/50000 [==============================] - 27s 547us/step - loss: 1.6707 - acc: 0.3560 - val_loss: 1.6618 - val_acc: 0.3655\n"
     ]
    },
    {
     "data": {
      "text/plain": [
       "<keras.callbacks.History at 0x7fc215d144e0>"
      ]
     },
     "execution_count": 8,
     "metadata": {},
     "output_type": "execute_result"
    }
   ],
   "source": [
    "\n",
    "class AccuracyHistory(keras.callbacks.Callback):\n",
    "    def on_train_begin(self, logs={}):\n",
    "        self.acc = []\n",
    "        self.loss = []\n",
    "        self.val_acc = []\n",
    "        self.val_loss = []\n",
    "\n",
    "    def on_epoch_end(self, batch, logs={}):\n",
    "        self.acc.append(logs.get('acc'))\n",
    "        self.val_acc.append(logs.get('val_acc'))\n",
    "        self.loss.append(logs.get('loss'))\n",
    "        self.val_loss.append(logs.get('val_loss'))\n",
    "\n",
    "history = AccuracyHistory()\n",
    "\n",
    "epochs = 10\n",
    "batch_size = 128\n",
    "model.fit(x_train, y_train,\n",
    "          batch_size=batch_size,\n",
    "          epochs=epochs,\n",
    "          steps_per_epoch = None,  #None uses each training data image one time\n",
    "          verbose=1,\n",
    "          validation_data=(x_test, y_test),\n",
    "          callbacks=[history])\n"
   ]
  },
  {
   "cell_type": "code",
   "execution_count": null,
   "metadata": {},
   "outputs": [],
   "source": []
  },
  {
   "cell_type": "code",
   "execution_count": 9,
   "metadata": {},
   "outputs": [],
   "source": [
    "#model.save_weights('Keras_CNN_MNIST_demo_weights.h5')"
   ]
  },
  {
   "cell_type": "code",
   "execution_count": 10,
   "metadata": {},
   "outputs": [
    {
     "name": "stdout",
     "output_type": "stream",
     "text": [
      "10000/10000 [==============================] - 2s 227us/step\n",
      "Test loss: 1.6617834789276122\n",
      "Test accuracy: 0.3655\n"
     ]
    }
   ],
   "source": [
    "score = model.evaluate(x_test, y_test, verbose=1)\n",
    "print('Test loss:', score[0])\n",
    "print('Test accuracy:', score[1])\n",
    "\n"
   ]
  },
  {
   "cell_type": "code",
   "execution_count": 11,
   "metadata": {},
   "outputs": [
    {
     "data": {
      "image/png": "[encoded data removed]",
      "text/plain": [
       "<Figure size 432x288 with 1 Axes>"
      ]
     },
     "metadata": {
      "needs_background": "light"
     },
     "output_type": "display_data"
    }
   ],
   "source": [
    "# summarize history for loss\n",
    "plt.subplot(1,1,1)\n",
    "plt.plot(history.loss, '.-')\n",
    "plt.plot(history.val_loss, '.-')\n",
    "plt.ylabel('Loss')\n",
    "plt.xlabel('epoch')\n",
    "plt.legend(['train', 'validation'], loc='upper right')\n",
    "plt.show()\n",
    "#print(history.loss, history.val_loss)"
   ]
  },
  {
   "cell_type": "code",
   "execution_count": 12,
   "metadata": {},
   "outputs": [
    {
     "data": {
      "image/png": "[encoded data removed]",
      "text/plain": [
       "<Figure size 432x288 with 1 Axes>"
      ]
     },
     "metadata": {
      "needs_background": "light"
     },
     "output_type": "display_data"
    }
   ],
   "source": [
    "# summarize history for loss\n",
    "plt.subplot(1,1,1)\n",
    "plt.plot(history.acc, '.-')\n",
    "plt.plot(history.val_acc, '.-')\n",
    "plt.ylabel('Accuracy')\n",
    "plt.xlabel('epoch')\n",
    "plt.legend(['train', 'validation'], loc='upper right')\n",
    "plt.show()\n",
    "#print(history.acc, history.val_acc)"
   ]
  },
  {
   "cell_type": "code",
   "execution_count": 13,
   "metadata": {},
   "outputs": [
    {
     "name": "stdout",
     "output_type": "stream",
     "text": [
      "(32, 32, 3)\n"
     ]
    },
    {
     "data": {
      "image/png": "[encoded data removed]",
      "text/plain": [
       "<Figure size 432x288 with 1 Axes>"
      ]
     },
     "metadata": {
      "needs_background": "light"
     },
     "output_type": "display_data"
    },
    {
     "name": "stdout",
     "output_type": "stream",
     "text": [
      "y= [0. 0. 0. 0. 0. 0. 0. 0. 1. 0.]\n",
      "\n",
      "[1 8 8 5 6 9 6 2 1 0]\n",
      "\n",
      "0 1\n",
      "1 8\n",
      "2 8\n",
      "3 5\n",
      "4 6\n",
      "5 9\n",
      "6 6\n",
      "7 2\n",
      "8 1\n",
      "9 0\n"
     ]
    }
   ],
   "source": [
    "input_image_index = 1\n",
    "print(x_test[input_image_index,:,:,:].shape)\n",
    "\n",
    "plt.imshow(x_test[input_image_index,:,:,:])\n",
    "plt.show()\n",
    "\n",
    "print(\"y=\", y_test[input_image_index])\n",
    "print()\n",
    "\n",
    "predictions = model.predict_classes(x_test[input_image_index:])[0:10]\n",
    "print(predictions)\n",
    "print()\n",
    "\n",
    "for i, prediction in enumerate(predictions):\n",
    "    print(i, prediction)\n"
   ]
  },
  {
   "cell_type": "code",
   "execution_count": null,
   "metadata": {},
   "outputs": [],
   "source": []
  },
  {
   "cell_type": "code",
   "execution_count": 14,
   "metadata": {},
   "outputs": [
    {
     "name": "stdout",
     "output_type": "stream",
     "text": [
      "0 0.085770674\n",
      "1 0.42131448\n",
      "2 0.000100586425\n",
      "3 2.640635e-05\n",
      "4 1.985947e-05\n",
      "5 6.038847e-06\n",
      "6 9.020917e-06\n",
      "7 4.5087985e-05\n",
      "8 0.37988216\n",
      "9 0.112825744\n",
      "\n",
      "predicton score= 0.42131448 index= 1 automobile\n"
     ]
    }
   ],
   "source": [
    "predictions = model.predict_proba(x_test[input_image_index:])[0:10]\n",
    "\n",
    "for i, prediction in enumerate(predictions[0]):\n",
    "    print(i, prediction)\n",
    "\n",
    "   \n",
    "print()\n",
    "p =np.argmax(predictions[0])\n",
    "\n",
    "print(\"predicton score=\", max(predictions[0]), \"index=\",p,  cifar10_labels[p])"
   ]
  },
  {
   "cell_type": "code",
   "execution_count": null,
   "metadata": {},
   "outputs": [],
   "source": []
  },
  {
   "cell_type": "code",
   "execution_count": 27,
   "metadata": {},
   "outputs": [
    {
     "name": "stdout",
     "output_type": "stream",
     "text": [
      "(5, 5, 1, 32)\n",
      "(32,)\n",
      "\n",
      "[[[ 0.04398357]\n",
      "  [-0.18575348]\n",
      "  [-0.10152675]\n",
      "  [-0.01109805]\n",
      "  [ 0.01430731]]\n",
      "\n",
      " [[-0.08627968]\n",
      "  [-0.07363389]\n",
      "  [ 0.120668  ]\n",
      "  [ 0.13111383]\n",
      "  [ 0.01617267]]\n",
      "\n",
      " [[-0.09094962]\n",
      "  [ 0.00692471]\n",
      "  [ 0.14008088]\n",
      "  [-0.00500901]\n",
      "  [-0.12541041]]\n",
      "\n",
      " [[ 0.04316562]\n",
      "  [ 0.089285  ]\n",
      "  [-0.02737041]\n",
      "  [-0.07194694]\n",
      "  [-0.10760643]]\n",
      "\n",
      " [[-0.07982992]\n",
      "  [-0.25000513]\n",
      "  [-0.2084322 ]\n",
      "  [-0.01528333]\n",
      "  [ 0.05812774]]]\n",
      "bias= -0.012971632\n"
     ]
    }
   ],
   "source": [
    "weights, biases = model.layers[0].get_weights()\n",
    "print(weights.shape)\n",
    "print(biases.shape)\n",
    "\n",
    "print()\n",
    "print(weights[:,:,:,0])\n",
    "print(\"bias=\",biases[0])\n",
    "\n",
    "w=weights[:,:,:,1]"
   ]
  },
  {
   "cell_type": "code",
   "execution_count": 31,
   "metadata": {
    "scrolled": false
   },
   "outputs": [
    {
     "name": "stdout",
     "output_type": "stream",
     "text": [
      "0\n",
      "[[ 1.8597355e+08 -7.8541229e+08 -4.2928058e+08 -4.6925332e+07\n",
      "   6.0494876e+07]\n",
      " [-3.6481210e+08 -3.1134253e+08  5.1021456e+08  5.5438214e+08\n",
      "   6.8382112e+07]\n",
      " [-3.8455776e+08  2.9279422e+07  5.9229709e+08 -2.1179344e+07\n",
      "  -5.3026666e+08]\n",
      " [ 1.8251506e+08  3.7751936e+08 -1.1572896e+08 -3.0420966e+08\n",
      "  -4.5498698e+08]\n",
      " [-3.3754093e+08 -1.0570844e+09 -8.8130362e+08 -6.4621744e+07\n",
      "   2.4577866e+08]]\n",
      "1\n",
      "[[ 6.86665152e+08  5.29687616e+08 -3.83750112e+08 -4.75104992e+08\n",
      "  -4.40875648e+08]\n",
      " [ 1.18838259e+09 -1.01201165e+09 -1.08359450e+09 -2.53118000e+08\n",
      "   3.12815904e+08]\n",
      " [-1.22317464e+08 -2.33471770e+09 -2.43077600e+08  5.02757632e+08\n",
      "   5.52469952e+08]\n",
      " [-1.67553907e+09 -7.35909184e+08  8.87107904e+08  4.86963072e+08\n",
      "  -1.07021304e+08]\n",
      " [-1.21942451e+09 -2.09439680e+08  2.04569552e+08  2.79581472e+08\n",
      "  -6.10104360e+07]]\n",
      "2\n",
      "[[-3.1291181e+08  1.0996206e+07  2.5885619e+08 -8.7440728e+07\n",
      "   1.4488722e+08]\n",
      " [ 4.1180008e+07 -2.4231814e+07  1.5914438e+07 -2.0935370e+07\n",
      "  -3.1488094e+07]\n",
      " [-7.6319994e+08 -2.3800104e+08 -4.0616228e+07 -7.4834568e+07\n",
      "   7.7728128e+07]\n",
      " [ 6.6544496e+07  2.1165928e+08 -6.5360120e+07  2.5829560e+08\n",
      "   7.0984904e+07]\n",
      " [-8.3100296e+07 -9.9574448e+07  1.3310870e+08 -2.0151877e+08\n",
      "   4.7577824e+07]]\n",
      "3\n",
      "[[ 2.81321984e+08  4.43724416e+08  8.75354176e+08  5.73386304e+08\n",
      "   2.93608512e+08]\n",
      " [-6.97182080e+07 -3.09126848e+08  2.28306896e+08  8.23422080e+08\n",
      "   4.60100992e+08]\n",
      " [-4.68938368e+08 -9.91940480e+08 -1.00543904e+09 -2.73275360e+08\n",
      "   3.98703120e+07]\n",
      " [-3.88304032e+08 -8.21413568e+08 -1.57102886e+09 -6.58047552e+08\n",
      "   1.73690416e+08]\n",
      " [ 6.00453120e+08  2.92169728e+08  2.14760100e+07 -3.99184928e+08\n",
      "  -3.06198720e+08]]\n",
      "4\n",
      "[[ 1.2888176e+08  4.8138291e+08  6.1900045e+08  7.4650790e+08\n",
      "   2.9863091e+08]\n",
      " [-3.7181942e+08 -2.5892140e+06  8.5750888e+07 -3.2157296e+08\n",
      "  -8.9254152e+07]\n",
      " [-4.5579194e+08 -7.5390285e+08 -8.8529210e+08 -5.0174858e+08\n",
      "  -6.7829320e+07]\n",
      " [-5.9866598e+08 -8.8203418e+08 -6.5041107e+08 -3.3062874e+08\n",
      "   7.0629392e+07]\n",
      " [-5.9887002e+08 -2.7777814e+08 -1.9154915e+08  7.0488096e+07\n",
      "   3.0502118e+08]]\n",
      "5\n",
      "[[-4.5581690e+08  4.4706259e+08  5.0967645e+08  5.3068484e+07\n",
      "   1.1806004e+08]\n",
      " [-8.9168678e+08 -2.1255068e+09 -1.4582830e+09 -1.1949957e+09\n",
      "  -6.4579814e+08]\n",
      " [-8.4313216e+08 -6.9410765e+08 -7.8674202e+08 -6.7322195e+08\n",
      "  -4.8588861e+08]\n",
      " [-3.0339824e+08  4.4573853e+08  1.0624232e+08 -7.7636016e+07\n",
      "  -1.9712374e+08]\n",
      " [ 2.2661192e+08  3.4131110e+08  4.2491485e+08  8.4056038e+08\n",
      "   4.7764979e+08]]\n",
      "6\n",
      "[[-1.41077568e+08 -5.87400384e+08 -9.04481984e+08 -1.11750224e+08\n",
      "   5.82879080e+07]\n",
      " [ 3.35902272e+08 -6.82235120e+07  6.30688640e+08  2.80464992e+08\n",
      "  -3.49517824e+08]\n",
      " [ 3.45446816e+08  3.30902976e+08 -6.82859280e+07 -2.27091392e+08\n",
      "   1.19686475e+06]\n",
      " [-5.41049536e+08 -1.90657056e+08 -5.23162720e+08  1.02602264e+08\n",
      "  -5.93363648e+08]\n",
      " [ 4.37627240e+07  2.49256160e+08  1.36149762e+06  1.96610384e+08\n",
      "   4.83781720e+07]]\n",
      "7\n",
      "[[ 2.4439408e+08 -2.6894678e+07  6.4226028e+07 -2.6319670e+08\n",
      "   2.4659122e+08]\n",
      " [-2.3864818e+08 -5.3612461e+08 -3.2543254e+08 -3.2566202e+08\n",
      "  -3.7412432e+08]\n",
      " [-3.6442349e+08 -5.8892840e+07  1.4645086e+08 -1.9431400e+08\n",
      "   2.7734626e+07]\n",
      " [-1.3741618e+08 -5.4572952e+07 -1.9043310e+08 -3.3931488e+08\n",
      "   2.0171168e+08]\n",
      " [-4.0545512e+07 -7.9959776e+07  2.3326976e+08  3.9072678e+08\n",
      "   1.0128942e+08]]\n",
      "8\n",
      "[[ 8.7836648e+07 -2.1567525e+08 -1.0493359e+08 -4.8821702e+08\n",
      "  -5.6867302e+08]\n",
      " [-5.9273904e+07  1.1952973e+08  5.9843085e+08 -6.1813948e+07\n",
      "  -1.2188283e+09]\n",
      " [-2.9020867e+08 -1.9777158e+08  5.4835322e+08  4.9753696e+07\n",
      "  -9.3264090e+08]\n",
      " [-7.7560826e+08 -5.1460746e+08  3.8410618e+08  6.4396198e+08\n",
      "   2.0817554e+08]\n",
      " [ 1.8914336e+08 -5.4888624e+07  2.0199094e+08  2.5321379e+08\n",
      "   3.3499581e+08]]\n",
      "9\n",
      "[[ 1.82689328e+08 -2.41967712e+08 -1.07240696e+08  1.86752816e+08\n",
      "   1.64038640e+08]\n",
      " [-2.38020544e+08  1.38500160e+08  3.76894016e+08 -7.42378800e+07\n",
      "   4.43372256e+08]\n",
      " [-5.75772928e+08 -2.45289136e+08 -3.02333472e+08  2.09896192e+08\n",
      "   2.59331712e+08]\n",
      " [-8.28624384e+08 -1.47027440e+08  4.54380960e+08  1.58842304e+08\n",
      "   7.26928750e+06]\n",
      " [-3.20638240e+08  1.63603632e+08  2.62610304e+08 -6.76648560e+07\n",
      "  -2.48353488e+08]]\n",
      "10\n",
      "[[ 5.05828800e+08 -7.39979520e+08 -4.41063760e+07 -2.96828672e+08\n",
      "  -1.36630304e+08]\n",
      " [ 4.04724760e+07 -4.87140960e+08  2.34185648e+08  4.17414272e+08\n",
      "   3.60348480e+07]\n",
      " [ 3.13164096e+08 -4.39407264e+08 -3.11511616e+08  3.31185408e+08\n",
      "  -1.20254384e+08]\n",
      " [ 3.52998624e+08 -1.69633312e+08  1.63992848e+08 -1.55934080e+08\n",
      "  -2.17718896e+08]\n",
      " [-9.80065520e+07 -3.19353952e+08  1.49558832e+08  1.28205144e+08\n",
      "   6.68000120e+07]]\n",
      "11\n",
      "[[ 1.2928967e+08  1.1939204e+06  1.3272637e+08  3.7532445e+08\n",
      "   3.7588941e+08]\n",
      " [-5.3275288e+07 -3.2521062e+08 -1.4607298e+08 -1.6518846e+08\n",
      "   6.0048288e+08]\n",
      " [ 3.9697754e+08  3.4293130e+08 -1.1406084e+09 -3.1477542e+08\n",
      "   2.6127658e+08]\n",
      " [ 5.7527635e+08 -1.1646758e+08 -1.3805719e+09  2.0255830e+08\n",
      "   5.6862598e+08]\n",
      " [ 7.1555520e+08 -7.2004013e+08 -5.7823878e+08  5.4893062e+08\n",
      "  -8.7957072e+07]]\n",
      "12\n",
      "[[-2.0736819e+08  1.1855741e+06  7.9844904e+07  7.3036986e+08\n",
      "  -4.2994909e+08]\n",
      " [-4.8267197e+08 -9.1926330e+08 -9.3025254e+08 -1.9725071e+09\n",
      "  -1.3257284e+09]\n",
      " [-9.1343309e+08 -1.4142733e+09 -1.2312288e+09 -5.2198790e+08\n",
      "   5.8866400e+08]\n",
      " [-2.7024205e+08 -5.2827245e+08 -1.6521331e+08  2.0652008e+08\n",
      "   7.4321446e+08]\n",
      " [ 3.2496128e+06 -5.5431533e+08  2.0920891e+08  7.7996358e+08\n",
      "   4.7251731e+08]]\n",
      "13\n",
      "[[-2.3706293e+08 -2.6567640e+08 -7.2079290e+08  1.6671424e+08\n",
      "   4.5641718e+08]\n",
      " [-1.5874546e+08 -9.0908243e+08 -1.1413635e+09  7.2924928e+07\n",
      "   3.2206205e+08]\n",
      " [-1.9670186e+06 -4.2543859e+08 -1.1404795e+09 -1.3725971e+08\n",
      "   4.8733098e+08]\n",
      " [-1.7002354e+08 -6.4492250e+08 -8.0167725e+08  3.3415331e+08\n",
      "   2.7115120e+08]\n",
      " [-7.9600490e+06 -3.8245731e+08 -4.6385018e+08 -8.5891190e+06\n",
      "   4.0917856e+08]]\n",
      "14\n",
      "[[ 5.0249556e+07  2.3452230e+08  3.0500198e+08  9.7408520e+07\n",
      "   6.1428666e+08]\n",
      " [ 8.6258438e+08  4.9961053e+08  4.1618042e+08  2.9318982e+08\n",
      "  -3.6455184e+07]\n",
      " [-3.2205571e+08 -2.8027133e+08 -3.5034502e+08 -7.6865830e+08\n",
      "  -5.8541645e+08]\n",
      " [-6.5047878e+08 -9.0329984e+08 -1.3583837e+09 -3.4418454e+08\n",
      "  -1.9677050e+08]\n",
      " [-4.1977194e+08 -2.5062006e+08  2.2609094e+08  5.0136061e+08\n",
      "  -1.5548147e+08]]\n",
      "15\n",
      "[[ 3.3827512e+07  2.1273458e+07 -5.3048340e+07  4.2987452e+07\n",
      "  -3.7114035e+08]\n",
      " [ 2.3409050e+08  4.1827702e+08  2.1840205e+08  1.4809694e+08\n",
      "  -2.9712544e+08]\n",
      " [-1.7295906e+08 -3.9830032e+08 -1.2131017e+08  1.9903061e+08\n",
      "   3.3530419e+08]\n",
      " [-4.6566083e+08 -2.2612344e+08 -1.4443422e+08 -6.3947258e+08\n",
      "  -6.1023686e+08]\n",
      " [-2.1164811e+08  1.1485263e+08 -3.9173376e+08 -4.9006748e+07\n",
      "  -7.9959443e+08]]\n",
      "16\n",
      "[[ 3.3774976e+07 -4.1563368e+07  5.0177776e+08 -4.9137354e+08\n",
      "  -9.3177024e+08]\n",
      " [ 4.0165316e+07 -8.2313965e+08 -6.1526202e+08 -2.8758338e+07\n",
      "   5.9230291e+08]\n",
      " [ 4.0937728e+08  2.4478870e+08  8.7740646e+08  4.6117760e+08\n",
      "   1.7907677e+08]\n",
      " [-4.8890180e+07  2.2483874e+08  4.5429888e+07 -5.2919328e+08\n",
      "  -1.0962516e+09]\n",
      " [-3.0769198e+07 -5.9975603e+08 -9.0302256e+07 -6.0574650e+08\n",
      "  -2.3705059e+08]]\n",
      "17\n",
      "[[ 3.38896224e+08  2.86662020e+07 -1.55379760e+08  2.12601688e+05\n",
      "   1.79340144e+08]\n",
      " [-1.99078832e+08 -1.13485786e+09 -1.25767258e+09 -3.90841472e+08\n",
      "  -2.80359584e+08]\n",
      " [ 8.19638160e+07  1.33486296e+08  4.64986816e+08  1.76529104e+08\n",
      "   5.65504512e+08]\n",
      " [ 3.80090080e+08  9.02792832e+08  4.96727200e+08 -5.03082280e+07\n",
      "   6.02544680e+07]\n",
      " [-4.65988720e+07 -4.05567840e+08  1.43692592e+08 -1.49944368e+08\n",
      "   1.50515360e+07]]\n",
      "18\n",
      "[[-1.19795800e+08  1.13362184e+08  2.32764624e+08 -7.49881792e+08\n",
      "   7.12208560e+07]\n",
      " [-9.01625024e+08  1.81384608e+08  6.32167104e+08 -6.38204416e+08\n",
      "  -6.87662880e+07]\n",
      " [-9.31380480e+08 -3.59383104e+08  6.44386560e+08  1.67753008e+08\n",
      "  -4.49654240e+08]\n",
      " [ 1.87040544e+08 -3.95409760e+08 -9.93827040e+07 -2.48899776e+08\n",
      "   1.28129720e+08]\n",
      " [ 2.23074896e+08 -1.33082660e+07 -7.90022240e+07  9.93020240e+07\n",
      "   5.51413720e+07]]\n",
      "19\n",
      "[[-4.0945616e+08 -4.6180916e+07  7.7043827e+08  7.5120806e+08\n",
      "   5.1001331e+08]\n",
      " [-2.2633002e+08 -1.1042655e+09 -1.8212389e+09 -1.0159497e+09\n",
      "   2.1730018e+07]\n",
      " [ 1.4509907e+08 -4.8369064e+07 -3.1804835e+08 -6.1249978e+08\n",
      "  -7.3475315e+08]\n",
      " [ 6.9909344e+08  9.7311341e+08  4.8402208e+08  1.1777584e+08\n",
      "  -4.4612675e+08]\n",
      " [-4.5676710e+08 -2.0667717e+08  4.7312016e+08  2.8759558e+08\n",
      "   3.8499318e+08]]\n",
      "20\n",
      "[[-1.2758395e+07 -6.7915648e+08 -3.9007549e+08 -1.3230842e+08\n",
      "   1.0040598e+08]\n",
      " [-1.7356562e+08 -2.3371210e+08  3.1036650e+08  3.9866592e+08\n",
      "  -3.7767320e+07]\n",
      " [-5.1223020e+07 -2.5098989e+08  3.4613528e+06  3.6683180e+07\n",
      "  -3.7023056e+08]\n",
      " [-3.3487578e+08  8.2375390e+06  4.2406291e+08 -3.1697360e+08\n",
      "   3.4047932e+06]\n",
      " [-6.4315347e+08  3.0982710e+08  3.5847395e+08 -3.0678054e+08\n",
      "  -4.8362819e+08]]\n",
      "21\n",
      "[[ 1.0836298e+08 -1.5828704e+08 -1.3838325e+08 -5.5800960e+08\n",
      "   9.7002200e+06]\n",
      " [-1.1114818e+08  4.0428032e+08  5.3074438e+08  5.2455533e+08\n",
      "  -2.2850149e+08]\n",
      " [ 7.9096320e+07  2.2307384e+08  7.0574208e+08  2.7639696e+08\n",
      "   4.1334291e+08]\n",
      " [-4.8477891e+08 -9.5790330e+08 -2.7093162e+08  4.9384892e+07\n",
      "   3.0832448e+08]\n",
      " [-4.7519293e+08 -1.2326920e+09 -1.2672483e+09 -9.5148640e+08\n",
      "  -4.5218186e+08]]\n",
      "22\n",
      "[[-1.14371010e+07 -3.17466912e+08 -1.38289936e+08  3.75714176e+08\n",
      "  -1.39311936e+08]\n",
      " [-1.04971944e+08  3.01080832e+08 -2.25669584e+08  4.57260520e+07\n",
      "  -2.56924208e+08]\n",
      " [-2.49745376e+08  6.97076736e+08 -9.59260720e+07 -7.15218112e+08\n",
      "  -6.47982848e+08]\n",
      " [-4.24787232e+08  6.52680512e+08  5.25197984e+08 -7.29114304e+08\n",
      "  -5.75422080e+08]\n",
      " [-3.16302912e+08  3.04881696e+08  3.71294752e+08  3.19687480e+07\n",
      "  -2.36884176e+08]]\n",
      "23\n",
      "[[ 2.6930918e+08  9.2193459e+08  5.0263181e+08  4.5948320e+08\n",
      "  -3.3341158e+08]\n",
      " [ 4.7776076e+07  5.4783750e+08  5.9420432e+07 -2.8469658e+08\n",
      "  -7.8754112e+08]\n",
      " [ 3.8609667e+08  2.8559229e+08 -5.7347780e+06 -1.2136923e+09\n",
      "  -5.8594381e+08]\n",
      " [ 4.8869453e+08  7.7872136e+07 -1.7558006e+09 -8.1777030e+08\n",
      "   8.1171056e+07]\n",
      " [-2.9118970e+08 -1.0724906e+09 -1.1553158e+09  1.6176104e+08\n",
      "   6.8111450e+08]]\n",
      "24\n",
      "[[ 3.3895715e+08  1.0636221e+08 -3.5326205e+08 -3.8256061e+08\n",
      "   1.7884941e+08]\n",
      " [ 1.5438656e+08 -3.6475718e+08 -1.0165117e+09 -2.9013805e+08\n",
      "   2.4448718e+08]\n",
      " [-2.3283906e+08 -2.9908294e+08 -3.3993693e+08  4.7477706e+08\n",
      "   3.4989030e+08]\n",
      " [ 5.1747232e+08  4.8720339e+08  5.4476774e+08  3.3842003e+08\n",
      "  -5.3728717e+08]\n",
      " [ 2.7605316e+07 -1.6281766e+08 -1.4086513e+07  6.2301024e+07\n",
      "  -4.1291552e+08]]\n",
      "25\n",
      "[[ 1.3459923e+08  1.2181301e+08 -7.1309338e+08 -7.2157082e+08\n",
      "  -5.8744166e+08]\n",
      " [ 4.8152714e+08 -6.2539224e+07 -3.3309053e+08 -1.2696975e+09\n",
      "  -2.7670028e+06]\n",
      " [ 9.1769184e+08  2.5943538e+08 -3.0886883e+08 -1.7378726e+09\n",
      "  -6.6545030e+08]\n",
      " [ 7.6335590e+08  4.2798816e+08 -8.8606944e+08 -1.6494102e+09\n",
      "   9.2160168e+07]\n",
      " [ 7.7240346e+08 -1.9599460e+06 -9.5429773e+08 -6.4977120e+08\n",
      "   3.2345946e+08]]\n"
     ]
    },
    {
     "name": "stdout",
     "output_type": "stream",
     "text": [
      "26\n",
      "[[ 2.9524346e+08 -1.6593307e+08 -3.7076365e+08 -1.5582816e+08\n",
      "   1.7911792e+08]\n",
      " [-9.5494035e+08 -8.6313030e+08 -2.3167451e+08  3.6447544e+07\n",
      "  -4.2918925e+08]\n",
      " [ 7.1280368e+07  4.6028781e+08  6.6435334e+08  2.2159926e+08\n",
      "  -6.0696954e+08]\n",
      " [ 3.1566467e+08  3.4019402e+08 -3.7419002e+08 -4.2781318e+08\n",
      "   2.7991202e+07]\n",
      " [-3.2795197e+08 -7.6856992e+07 -3.5363952e+08  1.3847014e+08\n",
      "   1.4428747e+08]]\n",
      "27\n",
      "[[ 5.0676973e+08 -3.7665325e+08 -4.5252301e+08 -5.7954592e+08\n",
      "  -1.5139541e+08]\n",
      " [-1.0326284e+09 -1.3993117e+09 -2.2901574e+08  3.4308934e+08\n",
      "   6.4609792e+08]\n",
      " [-1.6210949e+09 -4.3531616e+08  6.1271661e+08  3.6261728e+08\n",
      "   8.4832576e+08]\n",
      " [-1.3814461e+08 -3.8164138e+08 -2.2253614e+08 -4.1704732e+07\n",
      "   6.0505613e+08]\n",
      " [-2.5598314e+08 -2.8328819e+08 -6.8958074e+08 -5.3954669e+08\n",
      "  -6.7114032e+07]]\n",
      "28\n",
      "[[ 5.50105088e+08 -7.85559488e+08 -2.77856576e+08  9.73844880e+07\n",
      "   3.27835712e+08]\n",
      " [-7.27596864e+08 -6.41316544e+08  3.07103552e+08  1.34502768e+08\n",
      "   3.79932384e+08]\n",
      " [-7.01465664e+08  5.38455232e+08  5.54674560e+08  6.53790336e+08\n",
      "  -4.42271968e+08]\n",
      " [-4.91382160e+07  8.79180480e+08  4.77847296e+08 -5.78889088e+08\n",
      "  -2.84072640e+08]\n",
      " [ 3.85528864e+08 -2.90943008e+08 -4.94835968e+08 -1.28540467e+09\n",
      "  -1.02814936e+08]]\n",
      "29\n",
      "[[-1.9753374e+08 -5.6412582e+08 -7.6089024e+08 -4.6094816e+07\n",
      "   7.8057805e+08]\n",
      " [ 5.3545818e+08 -3.1647466e+08 -1.3510330e+09 -8.3080480e+08\n",
      "  -2.2510120e+08]\n",
      " [ 3.5187712e+08  9.6881408e+08 -3.0855248e+08 -5.5849306e+08\n",
      "  -8.1104845e+08]\n",
      " [ 4.1382422e+08  4.7310397e+08  4.2442128e+08  4.3013920e+07\n",
      "  -6.5775117e+08]\n",
      " [-1.1147871e+08  7.2498438e+08  2.9632973e+08  5.5571238e+08\n",
      "   1.8199837e+08]]\n",
      "30\n",
      "[[-2.4084747e+08 -4.6360758e+08 -7.4316992e+07  6.0537446e+08\n",
      "   2.6070038e+08]\n",
      " [-3.8792112e+08 -3.4052538e+08 -2.5507106e+08  2.5358248e+08\n",
      "   7.6050131e+08]\n",
      " [-1.4712971e+08  2.0589742e+08 -3.6662131e+08 -4.4442528e+08\n",
      "   9.4621741e+08]\n",
      " [ 2.2483700e+07  1.4167883e+08 -4.3528835e+08 -1.3070161e+09\n",
      "  -6.5813964e+07]\n",
      " [ 5.9140166e+08  5.7322138e+08 -2.0926899e+08 -6.5922061e+08\n",
      "  -7.9463488e+08]]\n",
      "31\n",
      "[[-7.5277197e+08  9.2389728e+07  2.4272686e+08  2.7211232e+08\n",
      "  -9.6566160e+06]\n",
      " [ 2.8732042e+08  7.0246272e+08 -1.6017384e+08 -2.1897011e+08\n",
      "   5.6615592e+07]\n",
      " [ 5.1313344e+08 -1.3677331e+08 -9.5823366e+08  4.0689020e+07\n",
      "  -2.0335328e+08]\n",
      " [-3.4733210e+08 -6.9279744e+08 -7.5628416e+08  2.9664410e+08\n",
      "   8.9004688e+07]\n",
      " [ 2.8572883e+08  4.5400064e+08  1.7407819e+08  5.1435776e+07\n",
      "  -2.6877920e+08]]\n",
      "biases= [-0.01297163 -0.04236811 -0.15066974  0.02420652 -0.04679723  0.08274461\n",
      " -0.09305374 -0.12710479 -0.05510483 -0.14053005 -0.1608746  -0.15751417\n",
      "  0.03804519 -0.03161144  0.03192268 -0.05795349 -0.04358737 -0.08028534\n",
      " -0.05768918 -0.01159827 -0.04219614 -0.00466218 -0.05533401 -0.02676046\n",
      " -0.13497733 -0.0112618  -0.02475018  0.00034938 -0.0391096  -0.00849457\n",
      " -0.0132995  -0.0968945 ]\n"
     ]
    },
    {
     "data": {
      "image/png": "[encoded data removed]",
      "text/plain": [
       "<matplotlib.figure.Figure at 0x10ffb1da0>"
      ]
     },
     "metadata": {},
     "output_type": "display_data"
    }
   ],
   "source": [
    "cols = 4\n",
    "rows = 8\n",
    "fig=plt.figure(figsize=(20, 20))\n",
    "\n",
    "for channel in range(weights.shape[-1]):\n",
    "    print(channel)\n",
    "    w2=weights[:,:,:,channel].reshape((5,5))\n",
    "    w2 *= 255\n",
    "    print(w2)\n",
    "    \n",
    "    #fig=plt.figure(figsize=(8, 8))\n",
    "    fig.add_subplot(rows, cols, channel+1)\n",
    "    plt.imshow(w2, cmap=\"gray\")\n",
    "\n",
    "print(\"biases=\", biases)\n",
    "\n",
    "plt.show()\n"
   ]
  },
  {
   "cell_type": "code",
   "execution_count": null,
   "metadata": {},
   "outputs": [],
   "source": []
  },
  {
   "cell_type": "code",
   "execution_count": null,
   "metadata": {},
   "outputs": [],
   "source": []
  },
  {
   "cell_type": "code",
   "execution_count": 33,
   "metadata": {},
   "outputs": [],
   "source": [
    "#Better model\n",
    "#Be sure to add padding=\"same\" to get 50% reduction in size at each layer, else gets reduced more\n",
    "model = Sequential()\n",
    "model.add(Conv2D(32, kernel_size=(5, 5), strides=(1, 1),\n",
    "                 activation='relu', padding=\"same\",\n",
    "                 input_shape=input_shape))\n",
    "model.add(MaxPooling2D(pool_size=(2, 2), strides=(2, 2)))\n",
    "model.add(Conv2D(64, (5, 5), activation='relu', padding=\"same\"))\n",
    "model.add(MaxPooling2D(pool_size=(2, 2)))\n",
    "model.add(Flatten())\n",
    "model.add(Dense(1000, activation='relu'))\n",
    "model.add(Dense(num_classes, activation='softmax'))"
   ]
  },
  {
   "cell_type": "code",
   "execution_count": 34,
   "metadata": {},
   "outputs": [
    {
     "name": "stdout",
     "output_type": "stream",
     "text": [
      "conv2d_9 (None, 32, 32, 32)\n",
      "max_pooling2d_4 (None, 16, 16, 32)\n",
      "conv2d_10 (None, 16, 16, 64)\n",
      "max_pooling2d_5 (None, 8, 8, 64)\n",
      "flatten_4 (None, 4096)\n",
      "dense_7 (None, 1000)\n",
      "dense_8 (None, 10)\n"
     ]
    }
   ],
   "source": [
    "for layer in model.layers:\n",
    "    print(layer.name, layer.output_shape)"
   ]
  },
  {
   "cell_type": "code",
   "execution_count": 35,
   "metadata": {},
   "outputs": [],
   "source": [
    "model.compile(loss=keras.losses.categorical_crossentropy,\n",
    "              optimizer=keras.optimizers.Adam(),\n",
    "              metrics=['accuracy'])"
   ]
  },
  {
   "cell_type": "code",
   "execution_count": 36,
   "metadata": {},
   "outputs": [
    {
     "name": "stdout",
     "output_type": "stream",
     "text": [
      "Train on 50000 samples, validate on 10000 samples\n",
      "Epoch 1/10\n",
      "50000/50000 [==============================] - 132s 3ms/step - loss: 1.4501 - acc: 0.4786 - val_loss: 1.1530 - val_acc: 0.5848\n",
      "Epoch 2/10\n",
      "50000/50000 [==============================] - 134s 3ms/step - loss: 1.0427 - acc: 0.6333 - val_loss: 0.9885 - val_acc: 0.6522\n",
      "Epoch 3/10\n",
      "50000/50000 [==============================] - 132s 3ms/step - loss: 0.8615 - acc: 0.6986 - val_loss: 0.8768 - val_acc: 0.6961\n",
      "Epoch 4/10\n",
      "50000/50000 [==============================] - 130s 3ms/step - loss: 0.7056 - acc: 0.7531 - val_loss: 0.8580 - val_acc: 0.7027\n",
      "Epoch 5/10\n",
      "50000/50000 [==============================] - 131s 3ms/step - loss: 0.5607 - acc: 0.8048 - val_loss: 0.8269 - val_acc: 0.7199\n",
      "Epoch 6/10\n",
      "50000/50000 [==============================] - 131s 3ms/step - loss: 0.4146 - acc: 0.8582 - val_loss: 0.8971 - val_acc: 0.7145\n",
      "Epoch 7/10\n",
      "50000/50000 [==============================] - 139s 3ms/step - loss: 0.2783 - acc: 0.9069 - val_loss: 0.9850 - val_acc: 0.7124\n",
      "Epoch 8/10\n",
      "50000/50000 [==============================] - 142s 3ms/step - loss: 0.1780 - acc: 0.9415 - val_loss: 1.1207 - val_acc: 0.7115\n",
      "Epoch 9/10\n",
      "50000/50000 [==============================] - 150s 3ms/step - loss: 0.1062 - acc: 0.9671 - val_loss: 1.2539 - val_acc: 0.7102\n",
      "Epoch 10/10\n",
      "50000/50000 [==============================] - 139s 3ms/step - loss: 0.0706 - acc: 0.9788 - val_loss: 1.3583 - val_acc: 0.7027\n"
     ]
    },
    {
     "data": {
      "text/plain": [
       "<keras.callbacks.History at 0x7fc1e05e8668>"
      ]
     },
     "execution_count": 36,
     "metadata": {},
     "output_type": "execute_result"
    }
   ],
   "source": [
    "history = AccuracyHistory()\n",
    "\n",
    "epochs = 10\n",
    "batch_size = 128\n",
    "model.fit(x_train, y_train,\n",
    "          batch_size=batch_size,\n",
    "          epochs=epochs,\n",
    "          steps_per_epoch = None,  #None uses each training data image one time\n",
    "          verbose=1,\n",
    "          validation_data=(x_test, y_test),\n",
    "          callbacks=[history])\n"
   ]
  },
  {
   "cell_type": "code",
   "execution_count": null,
   "metadata": {},
   "outputs": [],
   "source": []
  }
 ],
 "metadata": {
  "kernelspec": {
   "display_name": "Python 3",
   "language": "python",
   "name": "python3"
  },
  "language_info": {
   "codemirror_mode": {
    "name": "ipython",
    "version": 3
   },
   "file_extension": ".py",
   "mimetype": "text/x-python",
   "name": "python",
   "nbconvert_exporter": "python",
   "pygments_lexer": "ipython3",
   "version": "3.7.3"
  }
 },
 "nbformat": 4,
 "nbformat_minor": 2
}
